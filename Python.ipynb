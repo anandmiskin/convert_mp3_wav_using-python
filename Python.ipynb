{
 "cells": [
  {
   "cell_type": "code",
   "execution_count": 1,
   "id": "59b56580",
   "metadata": {},
   "outputs": [],
   "source": [
    "from pydub import AudioSegment\n",
    "import os"
   ]
  },
  {
   "cell_type": "code",
   "execution_count": 2,
   "id": "6fe9e36c",
   "metadata": {},
   "outputs": [
    {
     "data": {
      "text/plain": [
       "'C:\\\\Users\\\\HP\\\\Downloads\\\\My ml project\\\\mp3-to-wav'"
      ]
     },
     "execution_count": 2,
     "metadata": {},
     "output_type": "execute_result"
    }
   ],
   "source": [
    "cwd = os.getcwd()\n",
    "cwd"
   ]
  },
  {
   "cell_type": "code",
   "execution_count": 3,
   "id": "2c0c91aa",
   "metadata": {},
   "outputs": [
    {
     "data": {
      "text/plain": [
       "['1.mp3', '2.mp3', '3.mp3', '4.mp3']"
      ]
     },
     "execution_count": 3,
     "metadata": {},
     "output_type": "execute_result"
    }
   ],
   "source": [
    "directory = \"C:/Users/HP/Downloads/My ml project/mp3-to-wav/Argument 1/\"\n",
    "files = os.listdir(directory)\n",
    "files"
   ]
  },
  {
   "cell_type": "code",
   "execution_count": 4,
   "id": "064811a6",
   "metadata": {},
   "outputs": [],
   "source": [
    "x = 1\n",
    "for i in files:\n",
    "    song = AudioSegment.from_mp3(directory+i)\n",
    "    song.export(\"C:/Users/HP/Downloads/My ml project/mp3-to-wav/Argument 2/\"+str(x)+\".wav\", format=\"wav\")\n",
    "    x+=1"
   ]
  },
  {
   "cell_type": "code",
   "execution_count": null,
   "id": "9ad515eb",
   "metadata": {},
   "outputs": [],
   "source": []
  }
 ],
 "metadata": {
  "kernelspec": {
   "display_name": "Python 3 (ipykernel)",
   "language": "python",
   "name": "python3"
  },
  "language_info": {
   "codemirror_mode": {
    "name": "ipython",
    "version": 3
   },
   "file_extension": ".py",
   "mimetype": "text/x-python",
   "name": "python",
   "nbconvert_exporter": "python",
   "pygments_lexer": "ipython3",
   "version": "3.9.12"
  }
 },
 "nbformat": 4,
 "nbformat_minor": 5
}
